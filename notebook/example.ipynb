{
 "cells": [
  {
   "cell_type": "code",
   "execution_count": null,
   "metadata": {},
   "outputs": [
    {
     "ename": "",
     "evalue": "",
     "output_type": "error",
     "traceback": [
      "\u001b[1;31mRunning cells with 'Python 3.7.0 (conda)' requires ipykernel package.\n",
      "Run the following command to install 'ipykernel' into the Python environment. \n",
      "Command: 'conda install -p c:\\Users\\ganes\\Desktop\\Sudha-CareerProgress\\Machine_Learning_Projects\\Machine-Learning-Project\\virtualenv ipykernel --update-deps --force-reinstall'"
     ]
    }
   ],
   "source": [
    "from collections import namedtuple"
   ]
  }
 ],
 "metadata": {
  "kernelspec": {
   "display_name": "Python 3.7.0 (conda)",
   "language": "python",
   "name": "python3"
  },
  "language_info": {
   "name": "python",
   "version": "3.7.0"
  },
  "orig_nbformat": 4,
  "vscode": {
   "interpreter": {
    "hash": "f771f85af1bad665e2857edc1a4041d253931a7b0caa31c7bc6a59bf9c47c700"
   }
  }
 },
 "nbformat": 4,
 "nbformat_minor": 2
}
